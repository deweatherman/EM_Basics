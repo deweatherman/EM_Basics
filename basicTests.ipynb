{
 "cells": [
  {
   "cell_type": "code",
   "execution_count": 1,
   "id": "78073988-2e39-4d13-8133-6180c412f61f",
   "metadata": {},
   "outputs": [],
   "source": [
    "import numpy as np\n",
    "import vector\n",
    "import scipy "
   ]
  },
  {
   "cell_type": "code",
   "execution_count": 2,
   "id": "26b748e8-dcf5-4d41-a389-ffdb9e7d6a16",
   "metadata": {},
   "outputs": [],
   "source": [
    "# Useful constants:\n",
    "\n",
    "mu0 = 4*np.pi*1e-7   # H/m          Permeability of free space\n",
    "eps0 = 8.854*1e-12   # F/m          Permitivity of free space\n",
    "\n"
   ]
  },
  {
   "cell_type": "code",
   "execution_count": 3,
   "id": "62aa0fd6-46d8-4bcb-9e07-ab6701d457fa",
   "metadata": {},
   "outputs": [],
   "source": [
    "# Derived constants:\n",
    "\n",
    "c = 1/np.sqrt(mu0*eps0)          # m/s      Velocity of propagation in free space\n",
    "eta0 = np.sqrt(mu0/eps0)         # Ohm      Intrinsic impedance of free space\n"
   ]
  },
  {
   "cell_type": "code",
   "execution_count": 4,
   "id": "b0e8f26d-9b5d-4ff7-b32a-94c661da4f3b",
   "metadata": {},
   "outputs": [],
   "source": [
    "def linPolEField(E0Inc, thetaInRad, phiInRad, alphaInRad):\n",
    "\n",
    "    # TODO:\n",
    "    # Add checks on the angle values: 0<=thetaInRad<=np.pi ; 0<=phiInRad<2*np.pi; 0<=alphaInRad<2*np.pi \n",
    "    # (alpha can also be defined negative, as long as within similar limits)\n",
    "    \n",
    "    if((thetaInRad==0)|(thetaInRad==np.pi)):\n",
    "        EIncVector = vector.obj(x = E0Inc*np.cos(phiInRad), y = E0Inc*np.sin(phiInRad), z = 0.0)\n",
    "    else:         \n",
    "        # Projection of EIncVector on alpha plane (i.e. plane containing EIncVector)\n",
    "        Eu_i = E0Inc*np.cos(alphaInRad)\n",
    "        Ev_i = E0Inc*np.sin(alphaInRad)\n",
    "        # Projection of Eu_i and Ev_i on xy-plane and z:\n",
    "        Euxy_i = Eu_i*np.cos(thetaInRad)\n",
    "        Euz_i = Eu_i*np.sin(thetaInRad)\n",
    "        Evxy_i = Ev_i  #  Ev_i is invariant with thetaIn (Ev_i is perpendicular to pz-plane by construction)\n",
    "        Evz_i = 0.0   #  Ev_i is perpendicular to pz-plane by construction (i.e. this is no magic-number)\n",
    "        # Projection of Euxy_i, Euz_i, Evxy_i and Evz_i on xyz system:\n",
    "        EzProj = Euz_i + Evz_i\n",
    "        ExProj = (-1.0*Euxy_i*np.cos(phiInRad)  + (-1.0*Evxy_i*np.sin(phiInRad)))   \n",
    "        EyProj = (-1.0*Euxy_i*np.sin(phiInRad)  + Evxy_i*np.cos(phiInRad))\n",
    "        \n",
    "        EIncVector = vector.obj(x = ExProj, y = EyProj, z = EzProj)\n",
    "\n",
    "    print(\"Ex: \",EIncVector.x)\n",
    "    print(\"Ey: \",EIncVector.y)\n",
    "    print(\"Ez: \",EIncVector.z)\n",
    "\n",
    "    return EIncVector\n",
    "\n",
    "class planeWave:\n",
    "    \"\"\"The planeWave class contains the definition of a plane wave propagating in space.\n",
    "        The plane wave is defined here in the frequency domain (i.e. omega), and a harmonic\n",
    "        field is assumed.\n",
    "        The object is defined in terms of a vector object 'E0Vector' ('Vector' library) and \n",
    "        another vector object 'waveVector'.\"\"\"\n",
    "    \n",
    "    def __init__(self, E0Vector, waveVector):\n",
    "        self.E0Vector = E0Vector\n",
    "        self.waveVector = waveVector\n",
    "    def __str__(self):\n",
    "        return f\"{self.E0Vector}*(exp(i*dot({self.waveVector},position)))\"   \n",
    "    \n",
    "    #Methods of class planeWave:\n",
    "    \n",
    "    def obsEField(self, obs):  # Compute E field at location obs\n",
    "        \"\"\"'self.obsEField(obs)' which returns the electric field (including the phase term, therefore \n",
    "        complex) of the plane wave at location 'obs'. \"\"\"\n",
    "        return self.E0Vector*np.exp(1j*self.waveVector.dot(obs))"
   ]
  },
  {
   "cell_type": "code",
   "execution_count": 5,
   "id": "d8e7fd37-ff00-4071-b8b4-659f56271aee",
   "metadata": {},
   "outputs": [],
   "source": [
    "# TL parameters:\n",
    "\n",
    "R = 1       # Ohm/m\n",
    "L = 1e-6    # H/m\n",
    "C = 1e-12   # F/m\n",
    "G = 1       # 1/Ohm / m"
   ]
  },
  {
   "cell_type": "markdown",
   "id": "93280308-b0d9-40b9-818d-bef7cbd30a02",
   "metadata": {},
   "source": [
    "**Impingin plane wave**:\n",
    "The impinging plane wave is defined as follows:\n",
    "![impingingPlaneWaveDef](images/impingingPlaneWaveDef.JPG) "
   ]
  },
  {
   "cell_type": "code",
   "execution_count": 6,
   "id": "ed001033",
   "metadata": {},
   "outputs": [],
   "source": [
    "# Impinging plane wave:\n",
    "\n",
    "E0Inc = 1        # RMS value of the field intensity, V/m\n",
    "f = 1e9          # Hz\n",
    "\n",
    "#Incidence:\n",
    "# Note for user:\n",
    "# If thetaIn = 0 or 180, the polarization of E is associated simply to the azimuthal angle phiIn \n",
    "# (alphaIn is not used, cause is undefined)\n",
    "thetaIn = 180      # Degrees, \n",
    "phiIn = 135        # Degrees\n",
    "alphaIn = -30      # Degrees\n",
    "\n"
   ]
  },
  {
   "cell_type": "code",
   "execution_count": 7,
   "id": "ea63b2e8",
   "metadata": {},
   "outputs": [
    {
     "name": "stdout",
     "output_type": "stream",
     "text": [
      "Ex:  -0.7071067811865475\n",
      "Ey:  0.7071067811865476\n",
      "Ez:  0.0\n"
     ]
    }
   ],
   "source": [
    "# Impinging field derived quantities\n",
    "\n",
    "thetaInRad = thetaIn*np.pi/180     # 0 < thetaIn< 180\n",
    "phiInRad = phiIn*np.pi/180\n",
    "alphaInRad = alphaIn*np.pi/180\n",
    "\n",
    "\n",
    "omega_ = 2*np.pi*f    # rad/s\n",
    "lambda_ = c/f         # m\n",
    "wavenumber = omega_*np.sqrt(mu0*eps0)\n",
    "\n",
    "# Ingoing wave (therefore directed towards -1.0*rho):\n",
    "waveVector = vector.obj(phi = phiInRad, theta = thetaInRad, rho = -1*wavenumber*np.sin(thetaInRad)) \n",
    "\n",
    "# Assemble EIncVector from linearly polarized planewave definition:\n",
    "EIncVector = linPolEField(E0Inc, thetaInRad, phiInRad, alphaInRad)  \n",
    "\n",
    "# Create planeWave instance:\n",
    "incPw = planeWave(EIncVector, waveVector) "
   ]
  },
  {
   "cell_type": "code",
   "execution_count": null,
   "id": "d91951d3-4cae-4258-8a22-ff5f1d464333",
   "metadata": {},
   "outputs": [],
   "source": []
  },
  {
   "cell_type": "code",
   "execution_count": 9,
   "id": "50e68f60-ee2e-4796-9093-eaa8e2be3405",
   "metadata": {},
   "outputs": [
    {
     "data": {
      "text/plain": [
       "VectorObject3D(x=(-0.7071067811865475+0j), y=(0.7071067811865476+0j), z=0j)"
      ]
     },
     "execution_count": 9,
     "metadata": {},
     "output_type": "execute_result"
    }
   ],
   "source": [
    "# Test obsEfield method:\n",
    "# Compute Electric field at obs. point xyz\n",
    "obs = vector.obj(x = 0, y = 0, z = 0)\n",
    "incPw.obsEField(obs)"
   ]
  },
  {
   "cell_type": "code",
   "execution_count": null,
   "id": "d095e8d8-6447-4a9e-b741-28b65a6cc760",
   "metadata": {},
   "outputs": [],
   "source": []
  },
  {
   "cell_type": "code",
   "execution_count": null,
   "id": "5781995e",
   "metadata": {},
   "outputs": [],
   "source": [
    "# TL derived quantities:\n",
    "\n",
    "Z = R + 1j*omega_*L\n",
    "Y = G + 1j*omega_*C\n",
    "\n",
    "gamma_ = np.sqrt(Z*Y)\n",
    "Z0 = np.sqrt(Z/Y)\n"
   ]
  },
  {
   "cell_type": "code",
   "execution_count": null,
   "id": "061cd875-2ee4-4cfe-b0ff-22933041886c",
   "metadata": {},
   "outputs": [],
   "source": []
  },
  {
   "cell_type": "markdown",
   "id": "64521c2f-0fb5-43a8-8827-46be7e18533c",
   "metadata": {},
   "source": [
    "**Note from Vector library and coordinates:**\n",
    "\n",
    "For 3D vectors (e.g. $(E_x, E_y, E_z)$), the angles in [spherical coordinates](https://en.wikipedia.org/wiki/Spherical_coordinate_system) are defined as follows:\n",
    "\n",
    "- $\\varphi$ (aka azimuthal), angle between the projection of *vector* on the $xy$ plane and the $x$ axis: **phi**\n",
    "- $\\theta$ (aka polar), angle between *vector* and $z$ axis: **theta**\n",
    "- $r$ (aka *radial distance*), distance to origin: implemented via **rho** ($\\rho$ = $r$*$sin(\\theta)$)"
   ]
  },
  {
   "cell_type": "code",
   "execution_count": null,
   "id": "2d30bfc2-94cd-4a79-a9f4-382daa88b9ed",
   "metadata": {},
   "outputs": [],
   "source": []
  },
  {
   "cell_type": "code",
   "execution_count": null,
   "id": "4e179f90-41f3-4bc3-86c9-5df263559516",
   "metadata": {},
   "outputs": [],
   "source": []
  }
 ],
 "metadata": {
  "kernelspec": {
   "display_name": "Python 3 (ipykernel)",
   "language": "python",
   "name": "python3"
  },
  "language_info": {
   "codemirror_mode": {
    "name": "ipython",
    "version": 3
   },
   "file_extension": ".py",
   "mimetype": "text/x-python",
   "name": "python",
   "nbconvert_exporter": "python",
   "pygments_lexer": "ipython3",
   "version": "3.9.18"
  }
 },
 "nbformat": 4,
 "nbformat_minor": 5
}
